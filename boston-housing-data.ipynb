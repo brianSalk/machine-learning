{
 "cells": [
  {
   "cell_type": "code",
   "execution_count": 2,
   "id": "afa48efc",
   "metadata": {},
   "outputs": [],
   "source": [
    "from keras.datasets import boston_housing\n",
    "(train_data, train_targets), (test_data, test_targets) = boston_housing.load_data()"
   ]
  },
  {
   "cell_type": "markdown",
   "id": "b487c734",
   "metadata": {},
   "source": [
    "## What does this data represent and what are we trying to find out about it?\n",
    "several rows and 13 collumns.  Each collumn represents a different numerical statistic such as accessability to highways and per capita crime. Each row is a different sample of homes.  \n",
    "The targets are the median values of homes in thousands of dollars.  Remember that this data was gathered in the 70's.\n"
   ]
  },
  {
   "cell_type": "markdown",
   "id": "4f8941a0",
   "metadata": {},
   "source": [
    "## preparing the data\n",
    "Since we have 13 categories that can very widely, we need to do featurewise normalization."
   ]
  },
  {
   "cell_type": "code",
   "execution_count": 6,
   "id": "c496ad22",
   "metadata": {},
   "outputs": [],
   "source": [
    "mean = train_data.mean(axis=0)\n",
    "train_data -= mean\n",
    "std = train_data.std(axis=0)\n",
    "\n",
    "test_data -= mean\n",
    "test_data /= std\n"
   ]
  },
  {
   "cell_type": "code",
   "execution_count": 7,
   "id": "2fad8472",
   "metadata": {},
   "outputs": [],
   "source": [
    "from keras import models\n",
    "from keras import layers\n",
    "\n",
    "def build_model():\n",
    "    model = models.Sequential()\n",
    "    model.add(layers.Dense(64, activation='relu',\n",
    "                          input_shape=(train_data.shape[1],)))\n",
    "    model.add(layers.Dense(64, activation='relu'))\n",
    "    model.add(layers.Dense(1))\n",
    "    model.compile(optimizer='rmsprop', loss='mse', metrics=['mae'])\n",
    "    return model"
   ]
  },
  {
   "cell_type": "code",
   "execution_count": 9,
   "id": "fd4fcb48",
   "metadata": {},
   "outputs": [
    {
     "data": {
      "text/plain": [
       "<keras.engine.sequential.Sequential at 0x7effa0580910>"
      ]
     },
     "execution_count": 9,
     "metadata": {},
     "output_type": "execute_result"
    }
   ],
   "source": [
    "build_model()"
   ]
  },
  {
   "cell_type": "markdown",
   "id": "663b0f90",
   "metadata": {},
   "source": [
    "## evaluating our model using k-fold cross-validation\n",
    "Since we have a relativly small training set, we will get a lot of variation depending on which validation set we select.  Because of this, we cannot just select 100 or so data points and use them in our validation set.  \n",
    "Instead, we will need to use *k-fold cross-validation*.  K-fold cross-validation is when we partition the training data into k groups.  We instantiate K identical models and split use one of our k partitions for each as a validation set.  This takes a lot longer but gives us better results than just creating a validation set."
   ]
  },
  {
   "cell_type": "code",
   "execution_count": null,
   "id": "e174e3fa",
   "metadata": {},
   "outputs": [],
   "source": [
    "import numpy as np\n",
    "\n",
    "k = 4\n",
    "num_val_samples = len(train_data) // k\n",
    "num_epochs = 100\n",
    "all_scores = []\n",
    "\n",
    "for i in range(k):\n",
    "    print(f'processing fold #{i}')\n",
    "    val_data = train_data[i * num_val_samples: (i + 1) * num_val_samples]\n",
    "    val_targets = train_targets[i * num_val_samples: (i+1) * num_val_samples]\n",
    "    \n",
    "    partial_train_targets = np.concatenate(\n",
    "        [train_targets[:i * num_val_samples],\n",
    "        train_targets[(i+1) * num_val_samples:]],\n",
    "        axis=0\n",
    "        )\n",
    "    model = build_model()\n",
    "    model.fit(partial_train_data, partial_train_targets,\n",
    "            epochs=num_epochs, batch_size=1, verbose=0)\n",
    "    val_mse, val_mae = model.evaluate(val_targ)"
   ]
  }
 ],
 "metadata": {
  "kernelspec": {
   "display_name": "Python 3 (ipykernel)",
   "language": "python",
   "name": "python3"
  },
  "language_info": {
   "codemirror_mode": {
    "name": "ipython",
    "version": 3
   },
   "file_extension": ".py",
   "mimetype": "text/x-python",
   "name": "python",
   "nbconvert_exporter": "python",
   "pygments_lexer": "ipython3",
   "version": "3.9.13"
  }
 },
 "nbformat": 4,
 "nbformat_minor": 5
}
